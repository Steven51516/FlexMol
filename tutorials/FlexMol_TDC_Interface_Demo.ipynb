{
 "cells": [
  {
   "cell_type": "code",
   "execution_count": 1,
   "metadata": {},
   "outputs": [],
   "source": [
    "import os\n",
    "os.chdir('../')\n",
    "\n",
    "from FlexMol.dataset import *"
   ]
  },
  {
   "cell_type": "code",
   "execution_count": 2,
   "metadata": {},
   "outputs": [
    {
     "name": "stderr",
     "output_type": "stream",
     "text": [
      "Downloading...\n",
      "100%|██████████| 44.4M/44.4M [00:07<00:00, 5.86MiB/s]\n",
      "Loading...\n",
      "Done!\n"
     ]
    },
    {
     "name": "stdout",
     "output_type": "stream",
     "text": [
      "Columns in the train split:\n",
      "Index(['Drug1_ID', 'Drug1', 'Drug2_ID', 'Drug2', 'Y'], dtype='object')\n"
     ]
    }
   ],
   "source": [
    "from tdc.multi_pred import DDI\n",
    "\n",
    "# ### Step 3: Load the DDI Data\n",
    "# We load the DrugBank dataset from TDC and obtain the data splits (train, validation, and test).\n",
    "\n",
    "data = DDI(name='DrugBank')\n",
    "split = data.get_split() # choose other split methods if needed eg. scaffold, cold_protein, cold_drug, ...\n",
    "\n",
    "# Print the columns of the train split to understand the data structure.\n",
    "print(\"Columns in the train split:\")\n",
    "print(split[\"train\"].columns)"
   ]
  },
  {
   "cell_type": "code",
   "execution_count": 3,
   "metadata": {},
   "outputs": [
    {
     "name": "stdout",
     "output_type": "stream",
     "text": [
      "Train DataFrame:\n",
      "                                               Drug1  \\\n",
      "0                CC1=CC2=CC3=C(OC(=O)C=C3C)C(C)=C2O1   \n",
      "1                                           O=[Ti]=O   \n",
      "2              CC(C(O)=O)C1=CC=C(S1)C(=O)C1=CC=CC=C1   \n",
      "3         CC(CN(C)C)CN1C2=CC=CC=C2SC2=C1C=C(C=C2)C#N   \n",
      "4  OC1=CC=CC(=C1)C-1=C2\\CCC(=N2)\\C(=C2/N\\C(\\C=C2)...   \n",
      "\n",
      "                                               Drug2  Y  \n",
      "0  COC(=O)CCC1=C2NC(\\C=C3/N=C(/C=C4\\N\\C(=C/C5=N/C...  1  \n",
      "1  COC(=O)CCC1=C2NC(\\C=C3/N=C(/C=C4\\N\\C(=C/C5=N/C...  1  \n",
      "2  COC(=O)CCC1=C2NC(\\C=C3/N=C(/C=C4\\N\\C(=C/C5=N/C...  1  \n",
      "3  COC(=O)CCC1=C2NC(\\C=C3/N=C(/C=C4\\N\\C(=C/C5=N/C...  1  \n",
      "4  COC(=O)CCC1=C2NC(\\C=C3/N=C(/C=C4\\N\\C(=C/C5=N/C...  1  \n",
      "\n",
      "Validation DataFrame:\n",
      "                                               Drug1  \\\n",
      "0                               [H]C(Cl)(Br)C(F)(F)F   \n",
      "1  FC(F)(F)C1=CC(NC2=C(C=CC=N2)C(=O)OC2OC(=O)C3=C...   \n",
      "2  CN1C(CSCC(F)(F)F)NC2=CC(Cl)=C(C=C2S1(=O)=O)S(N...   \n",
      "3                CN(C)C(=O)OC1=CC(=CC=C1)[N+](C)(C)C   \n",
      "4  [H][C@@]12CC[C@@H](C)[C@]3([H])CC[C@@]4(C)OO[C...   \n",
      "\n",
      "                                               Drug2   Y  \n",
      "0                                 NNC(=O)C1=CC=NC=C1  47  \n",
      "1        CC(C(O)=O)C1=CC2=C(C=C1)C1=C(N2)C=CC(Cl)=C1  49  \n",
      "2  [H][C@]12O[C@@]1([H])[C@]1([H])C[C@@]([H])(C[C...  73  \n",
      "3                OC(CCN1CCCCC1)(C1CCCCC1)C1=CC=CC=C1  70  \n",
      "4                CC(C)(C)C(O)\\C=C\\C1=CC2=C(OCO2)C=C1  73  \n",
      "\n",
      "Test DataFrame:\n",
      "                                               Drug1  \\\n",
      "0  CC(C)[C@H](NC(=O)N(C)CC1=CSC(=N1)C(C)C)C(=O)N[...   \n",
      "1  CC1(C)C(C=C(Cl)Cl)C1C(=O)OCC1=CC(OC2=CC=CC=C2)...   \n",
      "2                                FC(F)OC(Cl)C(F)(F)F   \n",
      "3            CC(C)(C)NC[C@H](O)COC1=CC=CC2=C1CCCC2=O   \n",
      "4  COC1=CC2=C(C=C1)N(C(=O)C1=CC=C(Cl)C=C1)C(C)=C2...   \n",
      "\n",
      "                                               Drug2   Y  \n",
      "0  CC(C)CCC[C@@H](C)[C@@]1([H])CC[C@@]2([H])\\C(CC...  47  \n",
      "1  FC1=CC=CC=C1C1=NCC(=S)N(CC(F)(F)F)C2=C1C=C(Cl)...  73  \n",
      "2                COC1=CC=C(C=C1)C(CN(C)C)C1(O)CCCCC1  47  \n",
      "3                   CCN(CC)C(=O)C1(CC1CN)C1=CC=CC=C1  73  \n",
      "4   CNCC1=CC=C(C=C1)C1=C2CCNC(=O)C3=C2C(N1)=CC(F)=C3  47  \n"
     ]
    }
   ],
   "source": [
    "# Process each split and format the DataFrames\n",
    "# We basically do not need to modify anything but just rename and select the needed columns in our standard format\n",
    "train_df = load_DDI(split[\"train\"], from_df=True, drug1=\"Drug1\", drug2=\"Drug2\", label=\"Y\")\n",
    "val_df = load_DDI(split[\"valid\"], from_df=True, drug1=\"Drug1\", drug2=\"Drug2\", label=\"Y\")\n",
    "test_df = load_DDI(split[\"test\"], from_df=True, drug1=\"Drug1\", drug2=\"Drug2\", label=\"Y\")\n",
    "\n",
    "print(\"Train DataFrame:\")\n",
    "print(train_df.head())\n",
    "print(\"\\nValidation DataFrame:\")\n",
    "print(val_df.head())\n",
    "print(\"\\nTest DataFrame:\")\n",
    "print(test_df.head())"
   ]
  }
 ],
 "metadata": {
  "kernelspec": {
   "display_name": "base",
   "language": "python",
   "name": "python3"
  },
  "language_info": {
   "codemirror_mode": {
    "name": "ipython",
    "version": 3
   },
   "file_extension": ".py",
   "mimetype": "text/x-python",
   "name": "python",
   "nbconvert_exporter": "python",
   "pygments_lexer": "ipython3",
   "version": "3.7.16"
  }
 },
 "nbformat": 4,
 "nbformat_minor": 2
}
