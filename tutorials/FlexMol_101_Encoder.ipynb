{
 "cells": [
  {
   "cell_type": "markdown",
   "metadata": {},
   "source": [
    "Turotial 1: initialize and use the FlexMol encoders to transform raw molecular data into meaningful representations."
   ]
  },
  {
   "cell_type": "code",
   "execution_count": 2,
   "metadata": {},
   "outputs": [],
   "source": [
    "import os\n",
    "os.chdir('../')\n",
    "\n",
    "from FlexMol.encoder import *"
   ]
  },
  {
   "cell_type": "code",
   "execution_count": 3,
   "metadata": {},
   "outputs": [],
   "source": [
    "# The Encoder class in FlexMol transforms raw molecular data through preprocessing and encoding.\n",
    "\n",
    "# Method 1: Direct initialization\n",
    "cnn_encoder = DrugEncoder(\"CNN\")\n",
    "\n",
    "# Method 2: Using FlexMol\n",
    "BE = FlexMol()\n",
    "cnn_encoder = BE.init_drug_encoder(\"CNN\", filters=[32, 64, 96]) # optional customized initialization"
   ]
  },
  {
   "cell_type": "code",
   "execution_count": 6,
   "metadata": {},
   "outputs": [],
   "source": [
    "# Each encoder has a `featurizer` and a `model`.\n",
    "# Get the featurizer and model\n",
    "featurizer = cnn_encoder.get_featurizer()\n",
    "encoder_layer = cnn_encoder.get_model()"
   ]
  },
  {
   "cell_type": "code",
   "execution_count": 5,
   "metadata": {},
   "outputs": [
    {
     "name": "stdout",
     "output_type": "stream",
     "text": [
      "[[0. 0. 0. ... 0. 0. 0.]\n",
      " [0. 0. 0. ... 0. 0. 0.]\n",
      " [0. 0. 0. ... 0. 0. 0.]\n",
      " ...\n",
      " [0. 0. 0. ... 0. 0. 0.]\n",
      " [0. 0. 0. ... 0. 0. 0.]\n",
      " [0. 0. 0. ... 0. 0. 0.]]\n"
     ]
    }
   ],
   "source": [
    "# The Featurizer preprocess raw data into a model-readable format\n",
    "drug = \"CCO\"\n",
    "processed_data = featurizer(drug)\n",
    "print(processed_data)"
   ]
  },
  {
   "cell_type": "code",
   "execution_count": 7,
   "metadata": {},
   "outputs": [
    {
     "name": "stdout",
     "output_type": "stream",
     "text": [
      "Sample Layer Output: tensor([[-9.3898e-02,  1.4590e-02,  7.9865e-02, -2.1684e-02,  9.1860e-02,\n",
      "         -4.2191e-03, -2.7984e-02,  2.2402e-02, -3.6640e-02, -3.9994e-02,\n",
      "          5.9961e-02, -6.1900e-02,  7.3785e-02, -4.0451e-03, -1.7991e-02,\n",
      "         -2.9744e-02,  8.1293e-02, -2.5096e-02, -3.8066e-02, -1.0186e-03,\n",
      "         -6.4144e-02, -1.3440e-02, -3.2163e-03, -4.6644e-02, -1.0421e-01,\n",
      "         -1.1971e-02, -2.6323e-02,  9.1197e-02, -5.5418e-02,  6.3180e-02,\n",
      "          3.1857e-02, -4.0757e-02, -7.9065e-02, -9.6381e-02,  6.3246e-02,\n",
      "         -9.5012e-02,  8.3901e-02, -1.7794e-02, -1.0899e-01,  6.3650e-02,\n",
      "         -8.4964e-02, -5.4495e-02, -3.7407e-02,  2.9002e-03, -3.2082e-02,\n",
      "          2.0454e-02, -6.8078e-02,  2.6614e-02, -8.2436e-03,  5.2349e-02,\n",
      "         -9.6675e-02, -1.0055e-04, -7.4656e-03, -1.2686e-02, -8.1079e-02,\n",
      "          2.7542e-02,  2.2552e-02,  7.3664e-02, -7.8480e-02,  4.5978e-02,\n",
      "          2.1238e-02,  1.0284e-02,  8.6597e-03, -6.5687e-02,  7.4655e-02,\n",
      "          7.2822e-02, -1.4214e-02,  3.3155e-02,  4.5671e-02, -9.4569e-02,\n",
      "          1.5550e-02, -1.0516e-01,  1.6337e-02,  7.5923e-02, -1.0229e-01,\n",
      "          2.7937e-02,  7.8163e-03, -1.0024e-01,  9.5071e-02, -2.0290e-02,\n",
      "          7.8462e-02, -9.2390e-02, -4.2190e-02, -1.3177e-01, -7.3761e-02,\n",
      "         -1.0095e-01,  6.7386e-02, -8.8286e-02,  1.2317e-01, -4.9079e-02,\n",
      "         -9.0622e-02, -1.1103e-01, -9.7969e-02,  5.3884e-02,  1.0175e-01,\n",
      "         -6.0096e-02,  5.3685e-02, -1.1504e-01,  1.1153e-01, -8.6861e-02,\n",
      "         -8.4064e-02,  8.2386e-02,  7.5233e-02,  2.4375e-03, -7.1601e-02,\n",
      "         -2.3478e-03,  1.1675e-02,  7.7325e-02,  9.3054e-02,  1.0908e-01,\n",
      "          1.0301e-01, -4.8885e-02, -4.5331e-02,  3.5600e-02, -2.6017e-02,\n",
      "         -3.1757e-02, -1.0378e-02,  1.6332e-02,  9.5431e-02,  8.0173e-02,\n",
      "         -1.0803e-01,  9.4655e-02, -2.4893e-02, -7.7907e-02,  1.1606e-01,\n",
      "         -4.1539e-02, -7.0765e-02,  2.5360e-02, -9.0408e-03, -9.2346e-02,\n",
      "         -3.4005e-02,  3.8355e-02, -3.5450e-02,  1.0958e-02,  9.8108e-02,\n",
      "         -9.8329e-02, -2.1059e-03, -6.2956e-02, -2.4751e-02,  8.9410e-02,\n",
      "          4.4979e-02, -3.1206e-02,  8.8700e-02, -4.8668e-02, -7.1395e-02,\n",
      "          9.0359e-02, -5.3978e-02, -1.6404e-02, -2.3484e-02,  7.6711e-02,\n",
      "         -3.1449e-03,  1.0447e-01,  8.1586e-02,  6.5215e-02,  1.9087e-02,\n",
      "         -6.6950e-02,  1.1078e-02, -3.6228e-03, -1.4171e-02,  9.5048e-02,\n",
      "          5.5072e-02,  1.6612e-02,  1.3482e-02,  6.5663e-02,  2.9265e-02,\n",
      "         -7.4215e-02, -8.8659e-02,  4.3840e-02, -7.8002e-02, -3.4479e-02,\n",
      "         -6.3248e-02,  2.9750e-02, -3.5693e-02,  6.0062e-02, -8.4496e-02,\n",
      "          7.9153e-02,  3.6839e-03, -6.7525e-02, -5.0544e-02, -9.5633e-02,\n",
      "          5.5547e-02, -8.5190e-02,  7.2254e-02, -9.4517e-02, -6.2949e-02,\n",
      "          4.3881e-02,  3.6270e-02, -1.9127e-02,  4.8007e-02,  3.6821e-03,\n",
      "         -2.8018e-02,  3.4558e-02, -4.5596e-02,  4.6055e-02, -6.3876e-02,\n",
      "          5.3282e-02,  4.3848e-03, -3.5533e-02,  1.1964e-02, -6.7520e-02,\n",
      "          4.5959e-02, -7.4437e-02,  8.8645e-03, -3.8780e-02, -6.9126e-02,\n",
      "         -1.0112e-01, -1.1133e-02, -2.4414e-02,  8.3106e-02, -9.5002e-02,\n",
      "          1.1012e-01,  4.0763e-02, -5.0665e-02, -7.8182e-02, -2.1943e-02,\n",
      "          3.5168e-03,  7.1532e-02,  1.0821e-01,  6.5770e-02,  8.3270e-02,\n",
      "          3.2819e-03,  4.9236e-02,  7.8172e-02,  1.8139e-02, -6.5775e-02,\n",
      "          3.5923e-02, -8.2365e-02, -2.6098e-02, -5.1030e-02, -4.9849e-02,\n",
      "          1.0280e-01,  3.1571e-02, -3.9889e-02, -4.0750e-02, -3.6159e-02,\n",
      "         -6.1188e-02, -8.7016e-03,  2.1608e-02, -5.4228e-03, -1.0024e-01,\n",
      "         -4.0318e-02,  6.8291e-02,  9.6503e-02, -4.3428e-02, -5.3408e-02,\n",
      "          1.0742e-01,  6.3565e-02, -5.3001e-02, -3.4548e-02, -5.3905e-03,\n",
      "         -5.9546e-02,  1.6019e-02, -4.9394e-02, -8.2096e-02, -3.7289e-02,\n",
      "         -7.4960e-03]], grad_fn=<AddmmBackward0>)\n"
     ]
    }
   ],
   "source": [
    "# The model serves as a building block layer of the MRL model.\n",
    "# For demonstration, we convert processed data to a tensor and add batch dimension\n",
    "processed_tensor = torch.tensor(processed_data).float().unsqueeze(0)\n",
    "output = encoder_layer(processed_tensor)\n",
    "print(\"Sample Layer Output:\", output)\n"
   ]
  }
 ],
 "metadata": {
  "kernelspec": {
   "display_name": "dti-copy",
   "language": "python",
   "name": "python3"
  },
  "language_info": {
   "codemirror_mode": {
    "name": "ipython",
    "version": 3
   },
   "file_extension": ".py",
   "mimetype": "text/x-python",
   "name": "python",
   "nbconvert_exporter": "python",
   "pygments_lexer": "ipython3",
   "version": "3.7.16"
  }
 },
 "nbformat": 4,
 "nbformat_minor": 2
}
