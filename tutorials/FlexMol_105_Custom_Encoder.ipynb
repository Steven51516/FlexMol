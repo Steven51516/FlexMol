{
 "cells": [
  {
   "cell_type": "markdown",
   "metadata": {},
   "source": [
    "Tutorial5: Building a Model Using a Custom Featurizer and Encoder Layer"
   ]
  },
  {
   "cell_type": "code",
   "execution_count": 2,
   "metadata": {},
   "outputs": [],
   "source": [
    "import os\n",
    "os.chdir('../')\n",
    "\n",
    "from FlexMol.dataset.loader import load_DAVIS\n",
    "from FlexMol.encoder import FlexMol\n",
    "from FlexMol.task import BinaryTrainer\n",
    "\n",
    "from FlexMol.encoder.enc_layer import EncoderLayer\n",
    "from FlexMol.encoder.featurizer import Featurizer"
   ]
  },
  {
   "cell_type": "code",
   "execution_count": 7,
   "metadata": {},
   "outputs": [],
   "source": [
    "\n",
    "from rdkit import Chem, DataStructs\n",
    "from rdkit.Chem import AllChem\n",
    "import torch.nn as nn\n",
    "import torch.nn.functional as F\n",
    "import numpy as np\n",
    "\n",
    "\n",
    "# Custom Featurizer: MyMorganFeaturizer\n",
    "# This class converts SMILES strings to Morgan fingerprints (bit vectors).\n",
    "class MyMorganFeaturizer(Featurizer):\n",
    "    def transform(self, s):\n",
    "        mol = Chem.MolFromSmiles(s)\n",
    "        features_vec = AllChem.GetMorganFingerprintAsBitVect(mol, 2, 1024)\n",
    "        features = np.zeros((1,))\n",
    "        DataStructs.ConvertToNumpyArray(features_vec, features)\n",
    "        return features\n",
    "\n",
    "# Custom Encoder Layer: MyMLP\n",
    "# This class defines a simple multi-layer perceptron (MLP) with configurable hidden layers.\n",
    "class MyMLP(EncoderLayer):\n",
    "    def __init__(self, input_dim=1024, output_dim=128, hidden_dims_lst=[1024, 256, 64]):\n",
    "        super(MyMLP, self).__init__()\n",
    "        layer_size = len(hidden_dims_lst) + 1\n",
    "        dims = [input_dim] + hidden_dims_lst + [output_dim]\n",
    "        self.output_shape = output_dim\n",
    "        self.predictor = nn.ModuleList([nn.Linear(dims[i], dims[i + 1]) for i in range(layer_size)])\n",
    "\n",
    "    def get_output_shape(self):\n",
    "        return self.output_shape\n",
    "\n",
    "    def forward(self, v):\n",
    "        for i, l in enumerate(self.predictor):\n",
    "            v = F.relu(l(v))\n",
    "        return v\n"
   ]
  },
  {
   "cell_type": "code",
   "execution_count": 5,
   "metadata": {},
   "outputs": [],
   "source": [
    "train = load_DAVIS(\"data/DAVIS/train.txt\").head(20)\n",
    "val = load_DAVIS(\"data/DAVIS/val.txt\").head(20)\n",
    "test = load_DAVIS(\"data/DAVIS/test.txt\").head(20)\n",
    "\n",
    "# Initialize FlexMol instance\n",
    "FM = FlexMol()\n",
    "\n",
    "# Register a custom method with FlexMol\n",
    "# This custom method uses MyMLP as the encoder layer and MyMorganFeaturizer as the featurizer for drug data\n",
    "FM.register_method(\"drug\", \"my_method\", MyMLP, MyMorganFeaturizer)\n",
    "\n",
    "# Initialize drug and protein encoders\n",
    "# Use the custom method \"my_method\" for the drug encoder and the default \"AAC\" method for the protein encoder\n",
    "drug_encoder = FM.init_drug_encoder(\"my_method\")\n",
    "protein_encoder = FM.init_prot_encoder(\"AAC\")\n",
    "\n",
    "# Concatenate the outputs of the drug and protein encoders\n",
    "combined_output = FM.cat([drug_encoder, protein_encoder])\n",
    "output = FM.apply_mlp(combined_output, head=1)\n",
    "FM.build_model()"
   ]
  },
  {
   "cell_type": "code",
   "execution_count": 8,
   "metadata": {},
   "outputs": [
    {
     "name": "stdout",
     "output_type": "stream",
     "text": [
      "Start training...\n"
     ]
    },
    {
     "name": "stderr",
     "output_type": "stream",
     "text": [
      "Epoch 0: 100%|██████████| 1/1 [00:01<00:00,  1.06s/batch, loss=0.757]\n"
     ]
    },
    {
     "name": "stdout",
     "output_type": "stream",
     "text": [
      "Epoch: 0 \tTraining Loss: 0.757339\n",
      "Epoch: 0 \tValidation Loss: 0.661793\n",
      "Epoch: 0 \tValidation roc-auc: 0.5556\n"
     ]
    },
    {
     "name": "stderr",
     "output_type": "stream",
     "text": [
      "Epoch 1: 100%|██████████| 1/1 [00:00<00:00,  1.43batch/s, loss=0.791]\n"
     ]
    },
    {
     "name": "stdout",
     "output_type": "stream",
     "text": [
      "Epoch: 1 \tTraining Loss: 0.791020\n",
      "Epoch: 1 \tValidation Loss: 0.662584\n",
      "Epoch: 1 \tValidation roc-auc: 0.4167\n"
     ]
    },
    {
     "name": "stderr",
     "output_type": "stream",
     "text": [
      "Epoch 2: 100%|██████████| 1/1 [00:00<00:00,  1.34batch/s, loss=0.737]\n"
     ]
    },
    {
     "name": "stdout",
     "output_type": "stream",
     "text": [
      "Epoch: 2 \tTraining Loss: 0.737460\n",
      "Epoch: 2 \tValidation Loss: 0.663926\n",
      "Epoch: 2 \tValidation roc-auc: 0.3611\n"
     ]
    },
    {
     "name": "stderr",
     "output_type": "stream",
     "text": [
      "Epoch 3: 100%|██████████| 1/1 [00:00<00:00,  1.35batch/s, loss=0.728]\n"
     ]
    },
    {
     "name": "stdout",
     "output_type": "stream",
     "text": [
      "Epoch: 3 \tTraining Loss: 0.728215\n",
      "Epoch: 3 \tValidation Loss: 0.666695\n",
      "Epoch: 3 \tValidation roc-auc: 0.2778\n"
     ]
    },
    {
     "name": "stderr",
     "output_type": "stream",
     "text": [
      "Epoch 4: 100%|██████████| 1/1 [00:00<00:00,  1.30batch/s, loss=0.723]\n"
     ]
    },
    {
     "name": "stdout",
     "output_type": "stream",
     "text": [
      "Epoch: 4 \tTraining Loss: 0.722957\n",
      "Epoch: 4 \tValidation Loss: 0.669520\n",
      "Epoch: 4 \tValidation roc-auc: 0.3056\n"
     ]
    },
    {
     "name": "stderr",
     "output_type": "stream",
     "text": [
      "Epoch 5: 100%|██████████| 1/1 [00:00<00:00,  1.12batch/s, loss=0.723]\n"
     ]
    },
    {
     "name": "stdout",
     "output_type": "stream",
     "text": [
      "Epoch: 5 \tTraining Loss: 0.722743\n",
      "Epoch: 5 \tValidation Loss: 0.672304\n",
      "Epoch: 5 \tValidation roc-auc: 0.4167\n"
     ]
    },
    {
     "name": "stderr",
     "output_type": "stream",
     "text": [
      "Epoch 6: 100%|██████████| 1/1 [00:00<00:00,  1.21batch/s, loss=0.722]\n"
     ]
    },
    {
     "name": "stdout",
     "output_type": "stream",
     "text": [
      "Epoch: 6 \tTraining Loss: 0.722018\n",
      "Epoch: 6 \tValidation Loss: 0.675070\n",
      "Epoch: 6 \tValidation roc-auc: 0.4167\n"
     ]
    },
    {
     "name": "stderr",
     "output_type": "stream",
     "text": [
      "Epoch 7: 100%|██████████| 1/1 [00:00<00:00,  1.33batch/s, loss=0.721]\n"
     ]
    },
    {
     "name": "stdout",
     "output_type": "stream",
     "text": [
      "Epoch: 7 \tTraining Loss: 0.721421\n",
      "Epoch: 7 \tValidation Loss: 0.677907\n",
      "Epoch: 7 \tValidation roc-auc: 0.4444\n"
     ]
    },
    {
     "name": "stderr",
     "output_type": "stream",
     "text": [
      "Epoch 8: 100%|██████████| 1/1 [00:00<00:00,  1.66batch/s, loss=0.721]\n"
     ]
    },
    {
     "name": "stdout",
     "output_type": "stream",
     "text": [
      "Epoch: 8 \tTraining Loss: 0.721201\n",
      "Epoch: 8 \tValidation Loss: 0.680776\n",
      "Epoch: 8 \tValidation roc-auc: 0.4167\n"
     ]
    },
    {
     "name": "stderr",
     "output_type": "stream",
     "text": [
      "Epoch 9: 100%|██████████| 1/1 [00:00<00:00,  1.43batch/s, loss=0.721]\n"
     ]
    },
    {
     "name": "stdout",
     "output_type": "stream",
     "text": [
      "Epoch: 9 \tTraining Loss: 0.720855\n",
      "Epoch: 9 \tValidation Loss: 0.683647\n",
      "Epoch: 9 \tValidation roc-auc: 0.4167\n"
     ]
    },
    {
     "name": "stderr",
     "output_type": "stream",
     "text": [
      "Epoch 10: 100%|██████████| 1/1 [00:00<00:00,  1.66batch/s, loss=0.72]\n"
     ]
    },
    {
     "name": "stdout",
     "output_type": "stream",
     "text": [
      "Epoch: 10 \tTraining Loss: 0.720391\n",
      "Epoch: 10 \tValidation Loss: 0.686617\n",
      "Epoch: 10 \tValidation roc-auc: 0.4167\n",
      "Early stopping triggered after 10 epochs.\n",
      "Start testing...\n",
      "Test Loss: 0.686417\n",
      "accuracy: 0.950000\n",
      "precision: 0.000000\n",
      "recall: 0.000000\n",
      "f1: 0.000000\n"
     ]
    },
    {
     "name": "stderr",
     "output_type": "stream",
     "text": [
      "/opt/anaconda3/envs/dti/lib/python3.7/site-packages/sklearn/metrics/_classification.py:1318: UndefinedMetricWarning: Precision is ill-defined and being set to 0.0 due to no predicted samples. Use `zero_division` parameter to control this behavior.\n",
      "  _warn_prf(average, modifier, msg_start, len(result))\n"
     ]
    }
   ],
   "source": [
    "trainer = BinaryTrainer(\n",
    "    FM,\n",
    "    task=\"DTI\",\n",
    "    test_metrics=[\"accuracy\", \"precision\", \"recall\", \"f1\"],\n",
    "    device=\"cpu\",\n",
    "    early_stopping=\"roc-auc\",\n",
    "    epochs=30,\n",
    "    patience=10,\n",
    "    lr=0.0001,\n",
    "    batch_size=128\n",
    ")\n",
    "\n",
    "# Prepare the datasets for training, validation, and testing\n",
    "train_data, val_data, test_data = trainer.prepare_datasets(train_df=train, val_df=val, test_df=test)\n",
    "\n",
    "# Train the model\n",
    "trainer.train(train_data, val_data)\n",
    "\n",
    "# Test the model\n",
    "trainer.test(test_data)"
   ]
  }
 ],
 "metadata": {
  "kernelspec": {
   "display_name": "dti",
   "language": "python",
   "name": "python3"
  },
  "language_info": {
   "codemirror_mode": {
    "name": "ipython",
    "version": 3
   },
   "file_extension": ".py",
   "mimetype": "text/x-python",
   "name": "python",
   "nbconvert_exporter": "python",
   "pygments_lexer": "ipython3",
   "version": "3.7.16"
  }
 },
 "nbformat": 4,
 "nbformat_minor": 2
}
