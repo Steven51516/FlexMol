{
 "cells": [
  {
   "cell_type": "markdown",
   "metadata": {},
   "source": [
    "Tutorial4: Building a Model with Cross-Attention Interaction Using Two Transformer Encoders"
   ]
  },
  {
   "cell_type": "code",
   "execution_count": 1,
   "metadata": {},
   "outputs": [],
   "source": [
    "import os\n",
    "os.chdir('../')\n",
    "\n",
    "from FlexMol.dataset.loader import load_DAVIS\n",
    "from FlexMol.encoder import FlexMol\n",
    "from FlexMol.task import BinaryTrainer"
   ]
  },
  {
   "cell_type": "code",
   "execution_count": 6,
   "metadata": {},
   "outputs": [],
   "source": [
    "# Load the DAVIS dataset\n",
    "# We are using a subset of the data (first 20 rows) for demonstration purposes\n",
    "train = load_DAVIS(\"data/DAVIS/train.txt\").head(20)\n",
    "val = load_DAVIS(\"data/DAVIS/val.txt\").head(20)\n",
    "test = load_DAVIS(\"data/DAVIS/test.txt\").head(20)"
   ]
  },
  {
   "cell_type": "code",
   "execution_count": 4,
   "metadata": {},
   "outputs": [],
   "source": [
    "# Initialize FlexMol instance\n",
    "FM = FlexMol()\n",
    "\n",
    "# Initialize two Transformer encoders for drugs and proteins\n",
    "# Drug encoder: Transformer\n",
    "drug_encoder_transformer = FM.init_drug_encoder(\"Transformer\", pooling=False)\n",
    "\n",
    "# Protein encoder: Transformer\n",
    "protein_encoder_transformer = FM.init_prot_encoder(\"Transformer\", pooling=False)\n",
    "\n",
    "# Set up the cross_attention interaction layer\n",
    "# The cross_attention interaction layer takes 2D embeddings as input\n",
    "# It will fail if pooling is set to True\n",
    "interaction_output = FM.set_interaction(\n",
    "    [drug_encoder_transformer, protein_encoder_transformer], \n",
    "    \"cross_attention\"\n",
    ")\n",
    "# Apply a Multi-Layer Perceptron (MLP) to the interaction output\n",
    "output = FM.apply_mlp(interaction_output, head=1)\n",
    "# Build the model\n",
    "FM.build_model()"
   ]
  },
  {
   "cell_type": "code",
   "execution_count": 7,
   "metadata": {},
   "outputs": [
    {
     "name": "stdout",
     "output_type": "stream",
     "text": [
      "Start training...\n"
     ]
    },
    {
     "name": "stderr",
     "output_type": "stream",
     "text": [
      "Epoch 0: 100%|██████████| 1/1 [00:13<00:00, 13.56s/batch, loss=0.695]\n"
     ]
    },
    {
     "name": "stdout",
     "output_type": "stream",
     "text": [
      "Epoch: 0 \tTraining Loss: 0.694806\n",
      "Epoch: 0 \tValidation Loss: 0.786196\n",
      "Epoch: 0 \tValidation roc-auc: 0.5000\n"
     ]
    },
    {
     "name": "stderr",
     "output_type": "stream",
     "text": [
      "Epoch 1: 100%|██████████| 1/1 [00:14<00:00, 14.05s/batch, loss=0.684]\n"
     ]
    },
    {
     "name": "stdout",
     "output_type": "stream",
     "text": [
      "Epoch: 1 \tTraining Loss: 0.684389\n",
      "Epoch: 1 \tValidation Loss: 0.772495\n",
      "Epoch: 1 \tValidation roc-auc: 0.5000\n"
     ]
    },
    {
     "name": "stderr",
     "output_type": "stream",
     "text": [
      "Epoch 2: 100%|██████████| 1/1 [00:15<00:00, 15.37s/batch, loss=0.679]\n"
     ]
    },
    {
     "name": "stdout",
     "output_type": "stream",
     "text": [
      "Epoch: 2 \tTraining Loss: 0.679326\n",
      "Epoch: 2 \tValidation Loss: 0.756629\n",
      "Epoch: 2 \tValidation roc-auc: 0.5000\n"
     ]
    },
    {
     "name": "stderr",
     "output_type": "stream",
     "text": [
      "Epoch 3: 100%|██████████| 1/1 [00:14<00:00, 14.64s/batch, loss=0.664]\n"
     ]
    },
    {
     "name": "stdout",
     "output_type": "stream",
     "text": [
      "Epoch: 3 \tTraining Loss: 0.664419\n",
      "Epoch: 3 \tValidation Loss: 0.743121\n",
      "Epoch: 3 \tValidation roc-auc: 0.5278\n"
     ]
    },
    {
     "name": "stderr",
     "output_type": "stream",
     "text": [
      "Epoch 4: 100%|██████████| 1/1 [00:13<00:00, 13.77s/batch, loss=0.679]\n"
     ]
    },
    {
     "name": "stdout",
     "output_type": "stream",
     "text": [
      "Epoch: 4 \tTraining Loss: 0.678608\n",
      "Epoch: 4 \tValidation Loss: 0.727770\n",
      "Epoch: 4 \tValidation roc-auc: 0.4722\n"
     ]
    },
    {
     "name": "stderr",
     "output_type": "stream",
     "text": [
      "Epoch 5: 100%|██████████| 1/1 [00:14<00:00, 14.86s/batch, loss=0.68]\n"
     ]
    },
    {
     "name": "stdout",
     "output_type": "stream",
     "text": [
      "Epoch: 5 \tTraining Loss: 0.679626\n",
      "Epoch: 5 \tValidation Loss: 0.716419\n",
      "Epoch: 5 \tValidation roc-auc: 0.4722\n"
     ]
    },
    {
     "name": "stderr",
     "output_type": "stream",
     "text": [
      "Epoch 6: 100%|██████████| 1/1 [00:12<00:00, 12.85s/batch, loss=0.694]\n"
     ]
    },
    {
     "name": "stdout",
     "output_type": "stream",
     "text": [
      "Epoch: 6 \tTraining Loss: 0.694460\n",
      "Epoch: 6 \tValidation Loss: 0.703493\n",
      "Epoch: 6 \tValidation roc-auc: 0.4722\n"
     ]
    },
    {
     "name": "stderr",
     "output_type": "stream",
     "text": [
      "Epoch 7: 100%|██████████| 1/1 [00:13<00:00, 13.97s/batch, loss=0.668]\n"
     ]
    },
    {
     "name": "stdout",
     "output_type": "stream",
     "text": [
      "Epoch: 7 \tTraining Loss: 0.668321\n",
      "Epoch: 7 \tValidation Loss: 0.689191\n",
      "Epoch: 7 \tValidation roc-auc: 0.4444\n"
     ]
    },
    {
     "name": "stderr",
     "output_type": "stream",
     "text": [
      "Epoch 8: 100%|██████████| 1/1 [00:12<00:00, 12.16s/batch, loss=0.672]\n"
     ]
    },
    {
     "name": "stdout",
     "output_type": "stream",
     "text": [
      "Epoch: 8 \tTraining Loss: 0.671593\n",
      "Epoch: 8 \tValidation Loss: 0.679974\n",
      "Epoch: 8 \tValidation roc-auc: 0.4167\n"
     ]
    },
    {
     "name": "stderr",
     "output_type": "stream",
     "text": [
      "Epoch 9: 100%|██████████| 1/1 [00:12<00:00, 12.40s/batch, loss=0.698]\n"
     ]
    },
    {
     "name": "stdout",
     "output_type": "stream",
     "text": [
      "Epoch: 9 \tTraining Loss: 0.697948\n",
      "Epoch: 9 \tValidation Loss: 0.667212\n",
      "Epoch: 9 \tValidation roc-auc: 0.3889\n"
     ]
    },
    {
     "name": "stderr",
     "output_type": "stream",
     "text": [
      "Epoch 10: 100%|██████████| 1/1 [00:13<00:00, 13.06s/batch, loss=0.681]\n"
     ]
    },
    {
     "name": "stdout",
     "output_type": "stream",
     "text": [
      "Epoch: 10 \tTraining Loss: 0.681225\n",
      "Epoch: 10 \tValidation Loss: 0.656406\n",
      "Epoch: 10 \tValidation roc-auc: 0.4167\n"
     ]
    },
    {
     "name": "stderr",
     "output_type": "stream",
     "text": [
      "Epoch 11: 100%|██████████| 1/1 [00:14<00:00, 14.98s/batch, loss=0.679]\n"
     ]
    },
    {
     "name": "stdout",
     "output_type": "stream",
     "text": [
      "Epoch: 11 \tTraining Loss: 0.678944\n",
      "Epoch: 11 \tValidation Loss: 0.645484\n",
      "Epoch: 11 \tValidation roc-auc: 0.3611\n"
     ]
    },
    {
     "name": "stderr",
     "output_type": "stream",
     "text": [
      "Epoch 12: 100%|██████████| 1/1 [00:15<00:00, 15.56s/batch, loss=0.664]\n"
     ]
    },
    {
     "name": "stdout",
     "output_type": "stream",
     "text": [
      "Epoch: 12 \tTraining Loss: 0.663980\n",
      "Epoch: 12 \tValidation Loss: 0.637467\n",
      "Epoch: 12 \tValidation roc-auc: 0.4167\n"
     ]
    },
    {
     "name": "stderr",
     "output_type": "stream",
     "text": [
      "Epoch 13: 100%|██████████| 1/1 [00:11<00:00, 11.59s/batch, loss=0.685]\n"
     ]
    },
    {
     "name": "stdout",
     "output_type": "stream",
     "text": [
      "Epoch: 13 \tTraining Loss: 0.684512\n",
      "Epoch: 13 \tValidation Loss: 0.629846\n",
      "Epoch: 13 \tValidation roc-auc: 0.3889\n",
      "Early stopping triggered after 13 epochs.\n",
      "Start testing...\n",
      "Test Loss: 0.622106\n",
      "accuracy: 0.950000\n",
      "precision: 0.000000\n",
      "recall: 0.000000\n",
      "f1: 0.000000\n"
     ]
    },
    {
     "name": "stderr",
     "output_type": "stream",
     "text": [
      "/opt/anaconda3/envs/dti/lib/python3.7/site-packages/sklearn/metrics/_classification.py:1318: UndefinedMetricWarning: Precision is ill-defined and being set to 0.0 due to no predicted samples. Use `zero_division` parameter to control this behavior.\n",
      "  _warn_prf(average, modifier, msg_start, len(result))\n"
     ]
    }
   ],
   "source": [
    "trainer = BinaryTrainer(\n",
    "    FM,\n",
    "    task=\"DTI\",\n",
    "    test_metrics=[\"accuracy\", \"precision\", \"recall\", \"f1\"],\n",
    "    device=\"cpu\",\n",
    "    early_stopping=\"roc-auc\",\n",
    "    epochs=30,\n",
    "    patience=10,\n",
    "    lr=0.0001,\n",
    "    batch_size=128\n",
    ")\n",
    "# Prepare the datasets for training, validation, and testing\n",
    "train_data, val_data, test_data = trainer.prepare_datasets(train_df=train, val_df=val, test_df=test)\n",
    "# Train the model\n",
    "trainer.train(train_data, val_data)\n",
    "# Test the model\n",
    "trainer.test(test_data)"
   ]
  }
 ],
 "metadata": {
  "kernelspec": {
   "display_name": "dti-copy",
   "language": "python",
   "name": "python3"
  },
  "language_info": {
   "codemirror_mode": {
    "name": "ipython",
    "version": 3
   },
   "file_extension": ".py",
   "mimetype": "text/x-python",
   "name": "python",
   "nbconvert_exporter": "python",
   "pygments_lexer": "ipython3",
   "version": "3.7.16"
  }
 },
 "nbformat": 4,
 "nbformat_minor": 2
}
