{
 "cells": [
  {
   "cell_type": "markdown",
   "metadata": {},
   "source": [
    "Tutorial 2: Building a Simple Model Using a 2-Encoder + MLP Structure"
   ]
  },
  {
   "cell_type": "code",
   "execution_count": 1,
   "metadata": {},
   "outputs": [],
   "source": [
    "import os\n",
    "os.chdir('../')\n",
    "\n",
    "from FlexMol.dataset.loader import load_DAVIS\n",
    "from FlexMol.encoder import FlexMol\n",
    "from FlexMol.task import BinaryTrainer"
   ]
  },
  {
   "cell_type": "code",
   "execution_count": 2,
   "metadata": {},
   "outputs": [],
   "source": [
    "# Load the DAVIS dataset\n",
    "# We are using a subset of the data (first 50 rows) for demonstration purposes\n",
    "train = load_DAVIS(\"data/DAVIS/train.txt\").head(50)\n",
    "val = load_DAVIS(\"data/DAVIS/val.txt\").head(50)\n",
    "test = load_DAVIS(\"data/DAVIS/test.txt\").head(50)"
   ]
  },
  {
   "cell_type": "code",
   "execution_count": 3,
   "metadata": {},
   "outputs": [],
   "source": [
    "# Initialize FlexMol instance\n",
    "FM = FlexMol()\n",
    "# Initialize drug and protein encoders\n",
    "drug_encoder = FM.init_drug_encoder(\"GCN\")\n",
    "protein_encoder = FM.init_prot_encoder(\"AAC\")\n",
    "# Concatenate the encoders' outputs\n",
    "combined_output = FM.cat([drug_encoder, protein_encoder])\n",
    "# Apply a Multi-Layer Perceptron (MLP) to the concatenated outputs\n",
    "output = FM.apply_mlp(combined_output, head=1)\n",
    "# Build the model\n",
    "FM.build_model()"
   ]
  },
  {
   "cell_type": "code",
   "execution_count": 4,
   "metadata": {},
   "outputs": [],
   "source": [
    "# Set up the trainer with specified parameters and metrics\n",
    "trainer = BinaryTrainer(\n",
    "    FM,\n",
    "    task = \"DTI\",\n",
    "    test_metrics=[\"accuracy\", \"precision\", \"recall\", \"f1\"],\n",
    "    device=\"cpu\",\n",
    "    early_stopping=\"roc-auc\",\n",
    "    epochs=30,\n",
    "    patience=10,\n",
    "    lr=0.0001,\n",
    "    batch_size=128\n",
    ")\n",
    "# Prepare the datasets for training, validation, and testing\n",
    "train_data, val_data, test_data = trainer.prepare_datasets(train_df=train, val_df=val, test_df=test)"
   ]
  },
  {
   "cell_type": "code",
   "execution_count": 5,
   "metadata": {},
   "outputs": [
    {
     "name": "stdout",
     "output_type": "stream",
     "text": [
      "Start training...\n"
     ]
    },
    {
     "name": "stderr",
     "output_type": "stream",
     "text": [
      "Epoch 0:   0%|          | 0/1 [00:00<?, ?batch/s]"
     ]
    },
    {
     "name": "stderr",
     "output_type": "stream",
     "text": [
      "Epoch 0: 100%|██████████| 1/1 [00:01<00:00,  1.11s/batch, loss=0.664]\n"
     ]
    },
    {
     "name": "stdout",
     "output_type": "stream",
     "text": [
      "Epoch: 0 \tTraining Loss: 0.663608\n",
      "Epoch: 0 \tValidation Loss: 0.653195\n",
      "Epoch: 0 \tValidation roc-auc: 0.5957\n"
     ]
    },
    {
     "name": "stderr",
     "output_type": "stream",
     "text": [
      "Epoch 1: 100%|██████████| 1/1 [00:00<00:00, 11.10batch/s, loss=0.658]\n"
     ]
    },
    {
     "name": "stdout",
     "output_type": "stream",
     "text": [
      "Epoch: 1 \tTraining Loss: 0.658224\n",
      "Epoch: 1 \tValidation Loss: 0.624172\n",
      "Epoch: 1 \tValidation roc-auc: 0.4965\n"
     ]
    },
    {
     "name": "stderr",
     "output_type": "stream",
     "text": [
      "Epoch 2: 100%|██████████| 1/1 [00:00<00:00, 11.93batch/s, loss=0.641]\n"
     ]
    },
    {
     "name": "stdout",
     "output_type": "stream",
     "text": [
      "Epoch: 2 \tTraining Loss: 0.640507\n",
      "Epoch: 2 \tValidation Loss: 0.613853\n",
      "Epoch: 2 \tValidation roc-auc: 0.3759\n"
     ]
    },
    {
     "name": "stderr",
     "output_type": "stream",
     "text": [
      "Epoch 3: 100%|██████████| 1/1 [00:00<00:00, 10.70batch/s, loss=0.639]\n"
     ]
    },
    {
     "name": "stdout",
     "output_type": "stream",
     "text": [
      "Epoch: 3 \tTraining Loss: 0.638680\n",
      "Epoch: 3 \tValidation Loss: 0.617383\n",
      "Epoch: 3 \tValidation roc-auc: 0.3546\n"
     ]
    },
    {
     "name": "stderr",
     "output_type": "stream",
     "text": [
      "Epoch 4: 100%|██████████| 1/1 [00:00<00:00, 12.06batch/s, loss=0.638]\n"
     ]
    },
    {
     "name": "stdout",
     "output_type": "stream",
     "text": [
      "Epoch: 4 \tTraining Loss: 0.638139\n",
      "Epoch: 4 \tValidation Loss: 0.625347\n",
      "Epoch: 4 \tValidation roc-auc: 0.3191\n"
     ]
    },
    {
     "name": "stderr",
     "output_type": "stream",
     "text": [
      "Epoch 5: 100%|██████████| 1/1 [00:00<00:00, 12.16batch/s, loss=0.638]\n"
     ]
    },
    {
     "name": "stdout",
     "output_type": "stream",
     "text": [
      "Epoch: 5 \tTraining Loss: 0.637545\n",
      "Epoch: 5 \tValidation Loss: 0.641414\n",
      "Epoch: 5 \tValidation roc-auc: 0.3333\n"
     ]
    },
    {
     "name": "stderr",
     "output_type": "stream",
     "text": [
      "Epoch 6: 100%|██████████| 1/1 [00:00<00:00, 11.63batch/s, loss=0.636]\n"
     ]
    },
    {
     "name": "stdout",
     "output_type": "stream",
     "text": [
      "Epoch: 6 \tTraining Loss: 0.636284\n",
      "Epoch: 6 \tValidation Loss: 0.669903\n",
      "Epoch: 6 \tValidation roc-auc: 0.3546\n"
     ]
    },
    {
     "name": "stderr",
     "output_type": "stream",
     "text": [
      "Epoch 7: 100%|██████████| 1/1 [00:00<00:00, 11.79batch/s, loss=0.636]\n"
     ]
    },
    {
     "name": "stdout",
     "output_type": "stream",
     "text": [
      "Epoch: 7 \tTraining Loss: 0.635997\n",
      "Epoch: 7 \tValidation Loss: 0.713974\n",
      "Epoch: 7 \tValidation roc-auc: 0.3546\n"
     ]
    },
    {
     "name": "stderr",
     "output_type": "stream",
     "text": [
      "Epoch 8: 100%|██████████| 1/1 [00:00<00:00, 11.87batch/s, loss=0.636]\n"
     ]
    },
    {
     "name": "stdout",
     "output_type": "stream",
     "text": [
      "Epoch: 8 \tTraining Loss: 0.635855\n",
      "Epoch: 8 \tValidation Loss: 0.764850\n",
      "Epoch: 8 \tValidation roc-auc: 0.3759\n"
     ]
    },
    {
     "name": "stderr",
     "output_type": "stream",
     "text": [
      "Epoch 9: 100%|██████████| 1/1 [00:00<00:00, 12.12batch/s, loss=0.635]\n"
     ]
    },
    {
     "name": "stdout",
     "output_type": "stream",
     "text": [
      "Epoch: 9 \tTraining Loss: 0.635422\n",
      "Epoch: 9 \tValidation Loss: 0.826206\n",
      "Epoch: 9 \tValidation roc-auc: 0.3617\n"
     ]
    },
    {
     "name": "stderr",
     "output_type": "stream",
     "text": [
      "Epoch 10: 100%|██████████| 1/1 [00:00<00:00, 12.23batch/s, loss=0.635]"
     ]
    },
    {
     "name": "stdout",
     "output_type": "stream",
     "text": [
      "Epoch: 10 \tTraining Loss: 0.634938\n",
      "Epoch: 10 \tValidation Loss: 0.897588\n",
      "Epoch: 10 \tValidation roc-auc: 0.3546\n",
      "Early stopping triggered after 10 epochs.\n"
     ]
    },
    {
     "name": "stderr",
     "output_type": "stream",
     "text": [
      "\n"
     ]
    }
   ],
   "source": [
    "# Train the model\n",
    "trainer.train(train_data, val_data)"
   ]
  },
  {
   "cell_type": "code",
   "execution_count": 8,
   "metadata": {},
   "outputs": [
    {
     "name": "stdout",
     "output_type": "stream",
     "text": [
      "Start testing...\n",
      "Test Loss: 0.978239\n",
      "accuracy: 0.060000\n",
      "precision: 0.040816\n",
      "recall: 1.000000\n",
      "f1: 0.078431\n"
     ]
    }
   ],
   "source": [
    "trainer.test(test_data)"
   ]
  },
  {
   "cell_type": "code",
   "execution_count": 10,
   "metadata": {},
   "outputs": [],
   "source": [
    "# Perform inference on the test data using the trained model\n",
    "# This returns the total loss, all true labels, and all model predictions\n",
    "# Note: You can now compute custom metrics using 'all_labels' and 'all_predictions'\n",
    "total_loss, all_labels, all_predictions = trainer.inference(trainer.create_loader(test_data))\n"
   ]
  },
  {
   "cell_type": "code",
   "execution_count": 13,
   "metadata": {},
   "outputs": [
    {
     "name": "stdout",
     "output_type": "stream",
     "text": [
      "Ground Truth Lables:\n",
      "[0.0, 0.0, 0.0, 0.0, 0.0, 0.0, 0.0, 0.0, 0.0, 0.0, 0.0, 0.0, 0.0, 0.0, 0.0, 0.0, 0.0, 0.0, 0.0, 0.0, 0.0, 0.0, 0.0, 0.0, 0.0, 0.0, 0.0, 1.0, 0.0, 0.0, 0.0, 0.0, 0.0, 0.0, 0.0, 0.0, 0.0, 0.0, 0.0, 0.0, 0.0, 1.0, 0.0, 0.0, 0.0, 0.0, 0.0, 0.0, 0.0, 0.0]\n",
      "All_Predictions:\n",
      "[0.6218882, 0.6287671, 0.6197413, 0.5495148, 0.643523, 0.62342805, 0.5295856, 0.4806529, 0.5538527, 0.63042957, 0.5538419, 0.57894975, 0.72568244, 0.6414241, 0.6840686, 0.56393874, 0.73658043, 0.64223135, 0.61184186, 0.5978523, 0.5393544, 0.74992156, 0.62433743, 0.6433823, 0.52405965, 0.6406623, 0.5763875, 0.57649946, 0.59156555, 0.5964469, 0.57781327, 0.5427243, 0.6857456, 0.60090387, 0.5776537, 0.59034, 0.70655006, 0.7228107, 0.6243686, 0.5771154, 0.70688933, 0.57815194, 0.6854482, 0.70658773, 0.54950184, 0.72565895, 0.59068215, 0.6951169, 0.71074164, 0.7069677]\n"
     ]
    }
   ],
   "source": [
    "print(\"Ground Truth Lables:\")\n",
    "print(all_labels)\n",
    "print(\"All_Predictions:\")\n",
    "print(all_predictions)"
   ]
  }
 ],
 "metadata": {
  "kernelspec": {
   "display_name": "dti",
   "language": "python",
   "name": "python3"
  },
  "language_info": {
   "codemirror_mode": {
    "name": "ipython",
    "version": 3
   },
   "file_extension": ".py",
   "mimetype": "text/x-python",
   "name": "python",
   "nbconvert_exporter": "python",
   "pygments_lexer": "ipython3",
   "version": "3.7.16"
  }
 },
 "nbformat": 4,
 "nbformat_minor": 2
}
