{
 "cells": [
  {
   "cell_type": "markdown",
   "metadata": {},
   "source": [
    "Tutorial 2: Building a Simple Model Using a 2-Encoder + MLP Structure"
   ]
  },
  {
   "cell_type": "code",
   "execution_count": 1,
   "metadata": {},
   "outputs": [],
   "source": [
    "import os\n",
    "os.chdir('../')\n",
    "\n",
    "from FlexMol.dataset.loader import load_DAVIS\n",
    "from FlexMol.encoder import FlexMol\n",
    "from FlexMol.task import BinaryTrainer"
   ]
  },
  {
   "cell_type": "code",
   "execution_count": 2,
   "metadata": {},
   "outputs": [],
   "source": [
    "# Load the DAVIS dataset\n",
    "# We are using a subset of the data (first 50 rows) for demonstration purposes\n",
    "train = load_DAVIS(\"data/DAVIS/train.txt\").head(50)\n",
    "val = load_DAVIS(\"data/DAVIS/val.txt\").head(50)\n",
    "test = load_DAVIS(\"data/DAVIS/test.txt\").head(50)"
   ]
  },
  {
   "cell_type": "code",
   "execution_count": 3,
   "metadata": {},
   "outputs": [],
   "source": [
    "# Initialize FlexMol instance\n",
    "FM = FlexMol()\n",
    "# Initialize drug and protein encoders\n",
    "drug_encoder = FM.init_drug_encoder(\"GCN\")\n",
    "protein_encoder = FM.init_prot_encoder(\"AAC\")\n",
    "# Concatenate the encoders' outputs\n",
    "combined_output = FM.cat([drug_encoder, protein_encoder])\n",
    "# Apply a Multi-Layer Perceptron (MLP) to the concatenated outputs\n",
    "output = FM.apply_mlp(combined_output, head=1)\n",
    "# Build the model\n",
    "FM.build_model()"
   ]
  },
  {
   "cell_type": "code",
   "execution_count": 4,
   "metadata": {},
   "outputs": [],
   "source": [
    "# Set up the trainer with specified parameters and metrics\n",
    "trainer = BinaryTrainer(\n",
    "    FM,\n",
    "    task = \"DTI\",\n",
    "    test_metrics=[\"accuracy\", \"precision\", \"recall\", \"f1\"],\n",
    "    device=\"cpu\",\n",
    "    early_stopping=\"roc-auc\",\n",
    "    epochs=30,\n",
    "    patience=10,\n",
    "    lr=0.0001,\n",
    "    batch_size=128\n",
    ")\n",
    "# Prepare the datasets for training, validation, and testing\n",
    "train_data, val_data, test_data = trainer.prepare_datasets(train_df=train, val_df=val, test_df=test)"
   ]
  },
  {
   "cell_type": "code",
   "execution_count": 5,
   "metadata": {},
   "outputs": [
    {
     "name": "stdout",
     "output_type": "stream",
     "text": [
      "Start training...\n"
     ]
    },
    {
     "name": "stderr",
     "output_type": "stream",
     "text": [
      "Epoch 0: 100%|██████████| 1/1 [00:02<00:00,  2.00s/batch, loss=0.672]\n"
     ]
    },
    {
     "name": "stdout",
     "output_type": "stream",
     "text": [
      "Epoch: 0 \tTraining Loss: 0.671772\n",
      "Epoch: 0 \tValidation Loss: 2.133007\n",
      "Epoch: 0 \tValidation roc-auc: 0.7872\n"
     ]
    },
    {
     "name": "stderr",
     "output_type": "stream",
     "text": [
      "Epoch 1: 100%|██████████| 1/1 [00:01<00:00,  1.59s/batch, loss=0.652]\n"
     ]
    },
    {
     "name": "stdout",
     "output_type": "stream",
     "text": [
      "Epoch: 1 \tTraining Loss: 0.652205\n",
      "Epoch: 1 \tValidation Loss: 1.683086\n",
      "Epoch: 1 \tValidation roc-auc: 0.7801\n"
     ]
    },
    {
     "name": "stderr",
     "output_type": "stream",
     "text": [
      "Epoch 2: 100%|██████████| 1/1 [00:01<00:00,  1.69s/batch, loss=0.643]\n"
     ]
    },
    {
     "name": "stdout",
     "output_type": "stream",
     "text": [
      "Epoch: 2 \tTraining Loss: 0.642842\n",
      "Epoch: 2 \tValidation Loss: 1.383644\n",
      "Epoch: 2 \tValidation roc-auc: 0.7660\n"
     ]
    },
    {
     "name": "stderr",
     "output_type": "stream",
     "text": [
      "Epoch 3: 100%|██████████| 1/1 [00:01<00:00,  1.19s/batch, loss=0.641]\n"
     ]
    },
    {
     "name": "stdout",
     "output_type": "stream",
     "text": [
      "Epoch: 3 \tTraining Loss: 0.641445\n",
      "Epoch: 3 \tValidation Loss: 1.163450\n",
      "Epoch: 3 \tValidation roc-auc: 0.7305\n"
     ]
    },
    {
     "name": "stderr",
     "output_type": "stream",
     "text": [
      "Epoch 4: 100%|██████████| 1/1 [00:01<00:00,  1.69s/batch, loss=0.641]\n"
     ]
    },
    {
     "name": "stdout",
     "output_type": "stream",
     "text": [
      "Epoch: 4 \tTraining Loss: 0.641228\n",
      "Epoch: 4 \tValidation Loss: 1.007522\n",
      "Epoch: 4 \tValidation roc-auc: 0.6738\n"
     ]
    },
    {
     "name": "stderr",
     "output_type": "stream",
     "text": [
      "Epoch 5: 100%|██████████| 1/1 [00:01<00:00,  1.74s/batch, loss=0.641]\n"
     ]
    },
    {
     "name": "stdout",
     "output_type": "stream",
     "text": [
      "Epoch: 5 \tTraining Loss: 0.641124\n",
      "Epoch: 5 \tValidation Loss: 0.912583\n",
      "Epoch: 5 \tValidation roc-auc: 0.5816\n"
     ]
    },
    {
     "name": "stderr",
     "output_type": "stream",
     "text": [
      "Epoch 6: 100%|██████████| 1/1 [00:01<00:00,  1.86s/batch, loss=0.641]\n"
     ]
    },
    {
     "name": "stdout",
     "output_type": "stream",
     "text": [
      "Epoch: 6 \tTraining Loss: 0.640793\n",
      "Epoch: 6 \tValidation Loss: 0.864285\n",
      "Epoch: 6 \tValidation roc-auc: 0.5745\n"
     ]
    },
    {
     "name": "stderr",
     "output_type": "stream",
     "text": [
      "Epoch 7: 100%|██████████| 1/1 [00:01<00:00,  1.51s/batch, loss=0.64]\n"
     ]
    },
    {
     "name": "stdout",
     "output_type": "stream",
     "text": [
      "Epoch: 7 \tTraining Loss: 0.640439\n",
      "Epoch: 7 \tValidation Loss: 0.829402\n",
      "Epoch: 7 \tValidation roc-auc: 0.5816\n"
     ]
    },
    {
     "name": "stderr",
     "output_type": "stream",
     "text": [
      "Epoch 8: 100%|██████████| 1/1 [00:01<00:00,  1.74s/batch, loss=0.64]\n"
     ]
    },
    {
     "name": "stdout",
     "output_type": "stream",
     "text": [
      "Epoch: 8 \tTraining Loss: 0.640099\n",
      "Epoch: 8 \tValidation Loss: 0.805460\n",
      "Epoch: 8 \tValidation roc-auc: 0.6099\n"
     ]
    },
    {
     "name": "stderr",
     "output_type": "stream",
     "text": [
      "Epoch 9: 100%|██████████| 1/1 [00:01<00:00,  1.63s/batch, loss=0.64]\n"
     ]
    },
    {
     "name": "stdout",
     "output_type": "stream",
     "text": [
      "Epoch: 9 \tTraining Loss: 0.639802\n",
      "Epoch: 9 \tValidation Loss: 0.795091\n",
      "Epoch: 9 \tValidation roc-auc: 0.4894\n"
     ]
    },
    {
     "name": "stderr",
     "output_type": "stream",
     "text": [
      "Epoch 10: 100%|██████████| 1/1 [00:01<00:00,  1.39s/batch, loss=0.64]\n"
     ]
    },
    {
     "name": "stdout",
     "output_type": "stream",
     "text": [
      "Epoch: 10 \tTraining Loss: 0.639539\n",
      "Epoch: 10 \tValidation Loss: 0.793096\n",
      "Epoch: 10 \tValidation roc-auc: 0.3404\n",
      "Early stopping triggered after 10 epochs.\n"
     ]
    }
   ],
   "source": [
    "# Train the model\n",
    "trainer.train(train_data, val_data)"
   ]
  },
  {
   "cell_type": "code",
   "execution_count": 6,
   "metadata": {},
   "outputs": [
    {
     "name": "stdout",
     "output_type": "stream",
     "text": [
      "Start testing...\n",
      "Test Loss: 0.800313\n",
      "accuracy: 0.080000\n",
      "precision: 0.041667\n",
      "recall: 1.000000\n",
      "f1: 0.080000\n"
     ]
    }
   ],
   "source": [
    "trainer.test(test_data)"
   ]
  }
 ],
 "metadata": {
  "kernelspec": {
   "display_name": "dti",
   "language": "python",
   "name": "python3"
  },
  "language_info": {
   "codemirror_mode": {
    "name": "ipython",
    "version": 3
   },
   "file_extension": ".py",
   "mimetype": "text/x-python",
   "name": "python",
   "nbconvert_exporter": "python",
   "pygments_lexer": "ipython3",
   "version": "3.7.16"
  }
 },
 "nbformat": 4,
 "nbformat_minor": 2
}
