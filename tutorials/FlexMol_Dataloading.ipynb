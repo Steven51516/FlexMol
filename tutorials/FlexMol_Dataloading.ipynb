{
 "cells": [
  {
   "cell_type": "code",
   "execution_count": 17,
   "metadata": {},
   "outputs": [],
   "source": [
    "import os\n",
    "os.chdir('../')\n",
    "\n",
    "from FlexMol.dataset import *"
   ]
  },
  {
   "cell_type": "markdown",
   "metadata": {},
   "source": [
    "**Drug-Target Interaction (DTI) Data:**  \n",
    "  You can load DTI data using the `load_DTI` function. Ensure that your file contains a header with at least the following columns:\n",
    "  - `Drug`\n",
    "  - `Protein`\n",
    "  - `Y` (Interaction label)  \n",
    "  Optionally, include a `Protein_ID` column if you plan to use a protein structure encoder."
   ]
  },
  {
   "cell_type": "code",
   "execution_count": 18,
   "metadata": {},
   "outputs": [
    {
     "name": "stdout",
     "output_type": "stream",
     "text": [
      "Drug-Target Interaction data:\n",
      "                                                Drug  \\\n",
      "0  CN(C)CC1CCN2C=C(C3=CC=CC=C32)C4=C(C5=CN(CCO1)C...   \n",
      "1  CN1CCC(CC1)COC2=C(C=C3C(=C2)N=CN=C3NC4=C(C=C(C...   \n",
      "2  CNC(=O)C1=CC=CC=C1SC2=CC3=C(C=C2)C(=NN3)C=CC4=...   \n",
      "3  CCN(CC)CCNC(=O)C1=C(NC(=C1C)C=C2C3=C(C=CC(=C3)...   \n",
      "4  CC1=C(C=C(C=C1)NC(=O)C2=CC=C(C=C2)CN3CCN(CC3)C...   \n",
      "\n",
      "                                             Protein  Y           Protein_ID  \n",
      "0  PFWKILNPLLERGTYYYFMGQQPGKVLGDQRRPSLPALHFIKGAGK...  0  ABL1-phosphorylated  \n",
      "1  MAEKQKHDGRVKIGHYVLGDTLGVGTFGKVKIGEHQLTGHKVAVKI...  0          AMPK-alpha2  \n",
      "2  MAALSGGGGGGAEPGQALFNGDMEPEAGAGAGAAASSAADPAIPEE...  0          BRAF(V600E)  \n",
      "3  MTSSLQRPWRVPWLPWTILLVSTAAASQNQERLCAFKDPYQQDLGI...  0                BMPR2  \n",
      "4  MGPEALSSLLLLLLVASGDADMKGHFDPAKCRYALGMQDRTIPDSD...  1                 DDR1  \n"
     ]
    }
   ],
   "source": [
    "# The optional protein ID is a unique identifier for each protein in the dataset.\n",
    "# It can be used to link to additional information about the protein, such as its 3D structure.\n",
    "# For example, a 3D encoder might require the PDB (Protein Data Bank) ID as input to fetch and use the 3D structure of the protein.\n",
    "\n",
    "# Load Drug-Target Interaction data\n",
    "# Optional protein ID can be included for 3D encoders that require PDB as input.\n",
    "DTI = load_DTI(\"data/toy_data/dti.txt\", delimiter=\" \")\n",
    "print(\"Drug-Target Interaction data:\")\n",
    "print(DTI.head())"
   ]
  },
  {
   "cell_type": "markdown",
   "metadata": {},
   "source": [
    "**Drug-Drug Interaction (DDI) Data:**  \n",
    "  You can load DDI data using the `load_DDI` function. This function supports any file format readable by `pd.read_csv`. Ensure that the first line of your file contains a header with at least the following columns:\n",
    "  - `Drug1`\n",
    "  - `Drug2`\n",
    "  - `Y` (Interaction label)"
   ]
  },
  {
   "cell_type": "code",
   "execution_count": 19,
   "metadata": {},
   "outputs": [
    {
     "name": "stdout",
     "output_type": "stream",
     "text": [
      "\n",
      "Drug-Drug Interaction data:\n",
      "                                               Drug1  \\\n",
      "0  CC1(C(N2C(S1)C(C2=O)NC(=O)C(C3=CC=CC=C3)N)C(=O...   \n",
      "1  CC1(C(N2C(S1)C(C2=O)NC(=O)C(C3=CC=CC=C3)N)C(=O...   \n",
      "2  CC1(C(N2C(S1)C(C2=O)NC(=O)C(C3=CC=CC=C3)N)C(=O...   \n",
      "3  CC1(C(N2C(S1)C(C2=O)NC(=O)C(C3=CC=CC=C3)N)C(=O...   \n",
      "4  CC1(C(N2C(S1)C(C2=O)NC(=O)C(C3=CC=CC=C3)N)C(=O...   \n",
      "\n",
      "                                          Drug2     Y  \n",
      "0  CCC(=O)N(C1CCN(CC1)CCC2=CC=CC=C2)C3=CC=CC=C3   528  \n",
      "1  CCC(=O)N(C1CCN(CC1)CCC2=CC=CC=C2)C3=CC=CC=C3   420  \n",
      "2  CCC(=O)N(C1CCN(CC1)CCC2=CC=CC=C2)C3=CC=CC=C3   464  \n",
      "3  CCC(=O)N(C1CCN(CC1)CCC2=CC=CC=C2)C3=CC=CC=C3  1100  \n",
      "4  CCC(=O)N(C1CCN(CC1)CCC2=CC=CC=C2)C3=CC=CC=C3   207  \n"
     ]
    }
   ],
   "source": [
    "# Load Drug-Drug Interaction data\n",
    "# Optional protein IDs can be included for 3D encoders that require PDB as input.\n",
    "DDI = load_DDI(\"data/toy_data/ddi.txt\", delimiter=\" \")\n",
    "print(\"\\nDrug-Drug Interaction data:\")\n",
    "print(DDI.head())\n"
   ]
  },
  {
   "cell_type": "markdown",
   "metadata": {},
   "source": [
    "**Protein-Protein Interaction (PPI) Data:**  \n",
    "  You can load PPI data using the `load_PPI` function. Ensure that your file contains a header with at least the following columns:\n",
    "  - `Protein1`\n",
    "  - `Protein2`\n",
    "  - `Y` (Interaction label)  \n",
    "  Optionally, include `Protein1_ID` and `Protein2_ID` columns if you plan to use protein structure encoders."
   ]
  },
  {
   "cell_type": "code",
   "execution_count": 20,
   "metadata": {},
   "outputs": [
    {
     "name": "stdout",
     "output_type": "stream",
     "text": [
      "\n",
      "Protein-Protein Interaction data:\n",
      "                                            Protein1  \\\n",
      "0  MTITVGDAVSETELENKSQNVVLSPKASASSDISTDVDKDTSSSWD...   \n",
      "1  MSFKATITESGKQNIWFRAIYVLSTIQDDIKITVTTNELIAWSMNE...   \n",
      "2  MSAKAEKKPASKAPAEKKPAAKKTSTSTDGKKRSKARKETYSSYIY...   \n",
      "3  MSKIDSVLIIGGSGFLGLHLIQQFFDINPKPDIHIFDVRDLPEKLS...   \n",
      "4  MDQQAAYSTPYKKNTLSCTMSATLKDYLNKRVVIIKVDGECLIASL...   \n",
      "\n",
      "                                            Protein2  Y Protein1_ID  \\\n",
      "0  MSRAVGIDLGTTYSCVAHFSNDRVEIIANDQGNRTTPSYVAFTDTE...  1      P53049   \n",
      "1  MGQLLSHPLTEKTIEYNEYKNNQASTGIVPRFYNCVGSMQGYRLTQ...  1      Q08949   \n",
      "2  MSLSSKLSVQDLDLKDKRVFIRVDFNVPLDGKKITSNQRIVAALPT...  1      P02293   \n",
      "3  MSTPTAADRAKALERKNEGNVFVKEKHFLKAIEKYTEAIDLDSTQS...  1      P53199   \n",
      "4  MAGAPAPPPPPPPPALGGSAPKPAKSVMQGRDALLGDIRKGMKLKK...  1      P47093   \n",
      "\n",
      "  Protein2_ID  \n",
      "0      P09435  \n",
      "1      P38089  \n",
      "2      P00560  \n",
      "3      P53043  \n",
      "4      P37370  \n"
     ]
    }
   ],
   "source": [
    "# Load Protein-Protein Interaction data\n",
    "# Optional protein ID 1 and 2 can be included for 3D encoders that require PDB as input.\n",
    "PPI = load_PPI(\"data/toy_data/ppi.txt\", delimiter=\" \")\n",
    "print(\"\\nProtein-Protein Interaction data:\")\n",
    "print(PPI.head())"
   ]
  },
  {
   "cell_type": "code",
   "execution_count": 21,
   "metadata": {},
   "outputs": [
    {
     "name": "stdout",
     "output_type": "stream",
     "text": [
      "                                            Protein1  \\\n",
      "0  MDQQAAYSTPYKKNTLSCTMSATLKDYLNKRVVIIKVDGECLIASL...   \n",
      "1  MSVPAIAPRRKRLADGLSVTQKVFVRSRNGGATKIVREHYLRSDIP...   \n",
      "2  MSKVMKPSNGKGSRKSSKAATPDTKNFFHAKKKDPVNQDKANNASQ...   \n",
      "3  MANPFSRWFLSERPPNCHVADLETSLDPHQTLLKVQKYKPALSDWV...   \n",
      "4  MDNLQVSDIETALQCISSTASQDDKNKALQFLEQFQRSTVAWSICN...   \n",
      "\n",
      "                                            Protein2  Y Protein1_ID  \\\n",
      "0  MAGAPAPPPPPPPPALGGSAPKPAKSVMQGRDALLGDIRKGMKLKK...  1      P47093   \n",
      "1  MSEEQTAIDSPPSTVEGSVETVTTIDSPSTTASTIAATAEEHPQLE...  1      Q08162   \n",
      "2  MINESVSKREGFHESISRETSASNALGLYNKFNDERNPRYRTMIAE...  1      P53628   \n",
      "3  MAGKKGQKKSGLGNHGKNSDMDVEDRLQAVVLTDSYETRFMPLTAV...  1      P36107   \n",
      "4  MSSRVCYHINGPFFIIKLIDPKHLNSLTFEDFVYIALLLHKANDID...  1      Q99189   \n",
      "\n",
      "  Protein2_ID  \n",
      "0      P37370  \n",
      "1      P06105  \n",
      "2      P47050  \n",
      "3      P32501  \n",
      "4      Q08558  \n",
      "                                            Protein1  \\\n",
      "0  MEDIEKIKPYVRSFSKALDELKPEIEKLTSKSLDEQLLLLSDERAK...   \n",
      "1  MSSSLLSVLKEKSRSLKIRNKPVKMTSQERMIVHRCRFVDFTPATI...   \n",
      "2  MNIKDRTSEFQQSVLSYKKRNKNFREQQRERLQEKESENFANNTTG...   \n",
      "3  MYDSRGVALHSELIHRWNHAFSILSIVAFPKKRLLFAGSQDSKILV...   \n",
      "4  MGINNPIPRSLKSETNFVKPNQVFGADQVIPPDVLKRAKGLAIITI...   \n",
      "\n",
      "                                            Protein2  Y Protein1_ID  \\\n",
      "0  MGRTTSEGIHGFVDDLEPKSSILDKVGDFITVNTKRHDGREDFNEQ...  1      P38801   \n",
      "1  MSNKASDQSARTASILKTDITRENTITRSSSSNNDNYHHHNNINNY...  1      Q06679   \n",
      "2  MSQRKFAGLRDNFNLLGEKNKILVANRGEIPIRIFRTAHELSMQTV...  1      Q01590   \n",
      "3  MSNTSSYEKNNPDNLKHNGITIDSEFLTQEPITIPSNGSAVSIDET...  1      P38149   \n",
      "4  MSSAITALTPNQVNDELNKMQAFIRKEAEEKAKEIQLKADQEYEIE...  1      P43603   \n",
      "\n",
      "  Protein2_ID  \n",
      "0      P07270  \n",
      "1      P17123  \n",
      "2      P11154  \n",
      "3      P19145  \n",
      "4      P22203  \n",
      "                                            Protein1  \\\n",
      "0  MFEKNLSLSSKVFWEFSDVVFQRTLLGQELNESTVVLDFTSFSLLQ...   \n",
      "1  MAPIEYLLFEEPTGYAVFKVKLQQDDIGSRLKEVQEQINDFGAFTK...   \n",
      "2  MPPKEAPKKWKAPKGPKPTHRKNKNKLELGRAIKYARQKENAIEYL...   \n",
      "3  MSTAEFAQLLENSILSPDQNIRLTSETQLKKLSNDNFLQFAGLSSQ...   \n",
      "4  MSAKAEKKPASKAPAEKKPAAKKTSTSTDGKKRSKARKETYSSYIY...   \n",
      "\n",
      "                                            Protein2  Y Protein1_ID  \\\n",
      "0  MVATVKRTIRIKTQQHILPEVPPVENFPVRQWSIEIVLLDDEGKEI...  1      Q08018   \n",
      "1  MDINSNASVSPRPDGLPMTAGYNSASGKVRNSIRSIINHPEDSARA...  1      Q12460   \n",
      "2  MSLAKSAANKLDWAKVISSLRITGSTATQLSSFKKRNDEARRQLLE...  1      P53145   \n",
      "3  MTAEEFDFSSHSHRRYNPLTDSWILVSPHRAKRPWLGQQEAAYKPT...  1      Q06142   \n",
      "4  MSLSSKLSVQDLDLKDKRVFIRVDFNVPLDGKKITSNQRIVAALPT...  1      P02293   \n",
      "\n",
      "  Protein2_ID  \n",
      "0      P35189  \n",
      "1      Q04411  \n",
      "2      P30902  \n",
      "3      P08431  \n",
      "4      P00560  \n"
     ]
    }
   ],
   "source": [
    "train_df, val_df, test_df = load_PPI(\"data/toy_data/ppi.txt\", delimiter=\" \",  split_frac = [0.6, 0.2, 0.2])\n",
    "print(train_df.head())\n",
    "print(val_df.head())\n",
    "print(test_df.head())"
   ]
  },
  {
   "cell_type": "markdown",
   "metadata": {},
   "source": [
    "Alternatively, you can load your custom data directly into a pandas DataFrame using your preferred method. As long as the DataFrame contains the required columns (`Drug1`, `Drug2`, `Protein`, `Y`, etc.), you can proceed with the FlexMol pipeline without any issues."
   ]
  }
 ],
 "metadata": {
  "kernelspec": {
   "display_name": "dti",
   "language": "python",
   "name": "python3"
  },
  "language_info": {
   "codemirror_mode": {
    "name": "ipython",
    "version": 3
   },
   "file_extension": ".py",
   "mimetype": "text/x-python",
   "name": "python",
   "nbconvert_exporter": "python",
   "pygments_lexer": "ipython3",
   "version": "3.10.13"
  }
 },
 "nbformat": 4,
 "nbformat_minor": 2
}
